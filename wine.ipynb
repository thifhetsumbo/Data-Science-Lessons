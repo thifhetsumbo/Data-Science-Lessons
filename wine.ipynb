{
 "cells": [
  {
   "attachments": {},
   "cell_type": "markdown",
   "metadata": {},
   "source": [
    "# Compulsory Task 2 "
   ]
  },
  {
   "cell_type": "code",
   "execution_count": null,
   "metadata": {},
   "outputs": [],
   "source": [
    "# Import libraries\n",
    "import pandas as pd\n",
    "import matplotlib.pyplot as plt\n",
    "import seaborn as sns"
   ]
  },
  {
   "cell_type": "code",
   "execution_count": null,
   "metadata": {},
   "outputs": [],
   "source": [
    "# Load data\n",
    "# Reads the CSV file into a Pandas DataFrame.\n",
    "df = pd.read_csv(\"wine.csv\")"
   ]
  },
  {
   "cell_type": "code",
   "execution_count": null,
   "metadata": {},
   "outputs": [],
   "source": [
    "# Filters the dataset to include only wines from the specified varieties.\n",
    "varieties = [\"Cabernet Sauvignon\", \"Pinot Noir\", \"Chardonnay\"]\n",
    "# Creates multiple plots with each column in a grid.\n",
    "mlt_plt_grd = sns.FacetGrid(df[df[\"variety\"].isin(varieties)], col=\"variety\")\n",
    "# Plot histogram of points for each wine variety.\n",
    "mlt_plt_grd.map(sns.histplot, \"points\")\n",
    "# Set the x-axis label of the plot.\n",
    "plt.xlabel(\"Points\")\n",
    "# Set the y-axis label of the plot.\n",
    "plt.ylabel(\"Count\")\n",
    "# Sets the title for each subplot to the wine variety.\n",
    "mlt_plt_grd.set_titles(col_template=\"{col_name}\")\n",
    "# Sets a main title for all subplots.\n",
    "plt.suptitle(\"Distribution of Points for Selected Wine Varieties\", y=1.05)\n",
    "plt.show()"
   ]
  }
 ],
 "metadata": {
  "language_info": {
   "name": "python"
  },
  "orig_nbformat": 4
 },
 "nbformat": 4,
 "nbformat_minor": 2
}
