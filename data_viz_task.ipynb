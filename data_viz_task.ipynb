{
 "cells": [
  {
   "attachments": {},
   "cell_type": "markdown",
   "metadata": {},
   "source": [
    "# Data visualisation task "
   ]
  },
  {
   "attachments": {},
   "cell_type": "markdown",
   "metadata": {},
   "source": [
    "**Additional information**  \n",
    "[Cars93 metadata](https://jse.amstat.org/v1n1/datasets.lock.html) "
   ]
  },
  {
   "cell_type": "code",
   "execution_count": null,
   "metadata": {},
   "outputs": [],
   "source": [
    "# Import libraries\n",
    "import pandas as pd\n",
    "import matplotlib.pyplot as plt\n",
    "import seaborn as sns"
   ]
  },
  {
   "cell_type": "code",
   "execution_count": null,
   "metadata": {},
   "outputs": [],
   "source": [
    "# Load data\n",
    "# Reads the CSV file into a Pandas DataFrame.\n",
    "ins_df = pd.read_csv(\"Cars93.csv\")"
   ]
  },
  {
   "attachments": {},
   "cell_type": "markdown",
   "metadata": {},
   "source": [
    "### 1. Boxplot"
   ]
  },
  {
   "cell_type": "code",
   "execution_count": null,
   "metadata": {},
   "outputs": [],
   "source": [
    "# Boxplot for revs per mile\n",
    "plt.figure()\n",
    "# Select the dataset to only include Audi, Hyundai, Suzuki, and Toyota.\n",
    "manufacturers = [\"Audi\", \"Hyundai\", \"Suzuki\", \"Toyota\"]\n",
    "# Create a boxplot for the selected manufacturers.\n",
    "sns.boxplot(data=ins_df[ins_df[\"Manufacturer\"].isin(manufacturers)], x=\"Manufacturer\", y=\"Rev.per.mile\")\n",
    "# Set the title of the plot.\n",
    "plt.title(\"Box Plot of Revs Per Mile for Selected Manufacturers\")\n",
    "plt.show()\n",
    "plt.close()"
   ]
  },
  {
   "attachments": {},
   "cell_type": "markdown",
   "metadata": {},
   "source": [
    "**Boxplot question:**  \n",
    "Which of these manufacturers has the car with the highest revs per mile?\n"
   ]
  },
  {
   "attachments": {},
   "cell_type": "markdown",
   "metadata": {},
   "source": [
    "**Boxplot answer:** Suzuki has the highest revs per mile, followed by Hyundai.\n"
   ]
  },
  {
   "attachments": {},
   "cell_type": "markdown",
   "metadata": {},
   "source": [
    "### 2. Histogram"
   ]
  },
  {
   "cell_type": "code",
   "execution_count": null,
   "metadata": {},
   "outputs": [],
   "source": [
    "# Histogram of MPG\n",
    "plt.figure()\n",
    "# Create a histogram plot of MPG in the city and on the highway.\n",
    "sns.histplot(ins_df[\"MPG.city\"], label=\"City\")\n",
    "sns.histplot(ins_df[\"MPG.highway\"], label=\"Highway\")\n",
    "# Set the x-axis label of the plot.\n",
    "plt.xlabel(\"MPG\")\n",
    "# Set the title of the plot.\n",
    "plt.title(\"Histogram of MPG (City vs Highway)\")\n",
    "# Set the legend of the plot.\n",
    "plt.legend()\n",
    "plt.show()\n",
    "plt.close()"
   ]
  },
  {
   "attachments": {},
   "cell_type": "markdown",
   "metadata": {},
   "source": [
    "**Histogram question:**  \n",
    "Is it generally more fuel efficient to drive in the city or on the highway?"
   ]
  },
  {
   "attachments": {},
   "cell_type": "markdown",
   "metadata": {},
   "source": [
    "**Histogram answer:** Driving on the highway is generally more fuel-efficient."
   ]
  },
  {
   "attachments": {},
   "cell_type": "markdown",
   "metadata": {},
   "source": [
    "### 3. Lineplot"
   ]
  },
  {
   "cell_type": "code",
   "execution_count": null,
   "metadata": {},
   "outputs": [],
   "source": [
    "# Lineplot (Wheelbase vs turning circle)\n",
    "plt.figure()\n",
    "# Create a line plot of wheelbase vs turning circle.\n",
    "sns.lineplot(data=ins_df, x=\"Wheelbase\", y=\"Turn.circle\")\n",
    "# Set the title of the plot.\n",
    "plt.title(\"Wheelbase vs Turning Circle\")\n",
    "plt.show()\n",
    "plt.close()"
   ]
  },
  {
   "attachments": {},
   "cell_type": "markdown",
   "metadata": {},
   "source": [
    "**Lineplot question:**  \n",
    "What is this relationship? What happens when the wheelbase gets larger?\n"
   ]
  },
  {
   "attachments": {},
   "cell_type": "markdown",
   "metadata": {},
   "source": [
    "**Lineplot answer:** There's a positive correlation. The turning circle also gets larger.\n"
   ]
  },
  {
   "attachments": {},
   "cell_type": "markdown",
   "metadata": {},
   "source": [
    "### 4. Barplot"
   ]
  },
  {
   "cell_type": "code",
   "execution_count": null,
   "metadata": {},
   "outputs": [],
   "source": [
    "# Barplot for mean horsepower\n",
    "plt.figure()\n",
    "# Create a bar plot of the mean horsepower by car type.\n",
    "sns.barplot(data=ins_df, x=\"Type\", y=\"Horsepower\")\n",
    "# Set the title of the plot.\n",
    "plt.title(\"Mean Horsepower by Car Type\")\n",
    "plt.show()\n",
    "plt.close()"
   ]
  },
  {
   "attachments": {},
   "cell_type": "markdown",
   "metadata": {},
   "source": [
    "**Barplot question:**  \n",
    "Does a larger car mean more horsepower?\n",
    "\n"
   ]
  },
  {
   "attachments": {},
   "cell_type": "markdown",
   "metadata": {},
   "source": [
    "**Barplot answer:** Yes, a larger car has the most horsepower."
   ]
  }
 ],
 "metadata": {
  "language_info": {
   "name": "python"
  },
  "orig_nbformat": 4
 },
 "nbformat": 4,
 "nbformat_minor": 2
}
