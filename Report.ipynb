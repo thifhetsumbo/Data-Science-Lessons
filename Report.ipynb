{
 "cells": [
  {
   "cell_type": "code",
   "execution_count": null,
   "metadata": {
    "id": "h0LVvvnfJsg5"
   },
   "outputs": [],
   "source": [
    "# Import pandas"
   ]
  },
  {
   "cell_type": "code",
   "execution_count": null,
   "metadata": {
    "id": "rv2oLRnPK36J"
   },
   "outputs": [],
   "source": [
    "# Create a DataFrame with balance.txt"
   ]
  },
  {
   "cell_type": "markdown",
   "metadata": {
    "id": "_LXpBJXZLYoh"
   },
   "source": [
    "Write the code needed to produce a report that provides the following information:\n",
    "* Compare the average income based on ethnicity. \n",
    "* On average, do married or single people have a higher balance?\n",
    "* What is the highest income in our dataset?\n",
    "* What is the lowest income in our dataset?\n",
    "* How many cards do we have recorded in our dataset? (Hint: use `sum()`)\n",
    "* How many females do we have information for vs how many males? (Hint: use `count()`For a list of all methods for computation of descriptive stats, explore the [pandas documentation](https://pandas.pydata.org/pandas-docs/stable/reference/frame.html#computations-descriptive-stats)). \n",
    "\n",
    "\n"
   ]
  },
  {
   "cell_type": "markdown",
   "metadata": {},
   "source": [
    "Compulsory Task 2\n",
    "\n",
    "This program creates a data frame that contains the data in \n",
    "balance.txt and produce a report that provides the following \n",
    "information:\n",
    "    Compare the average income based on ethnicity.\n",
    "    On average, do married or single people have a higher balance?\n",
    "    What is the highest income in our dataset?\n",
    "    What is the lowest income in our dataset?\n",
    "    How many cards do we have recorded in our dataset?\n",
    "    How many females do we have information for vs how many males?"
   ]
  },
  {
   "cell_type": "code",
   "execution_count": null,
   "metadata": {},
   "outputs": [],
   "source": [
    "# Import the pandas library.\n",
    "import pandas as pd"
   ]
  },
  {
   "cell_type": "code",
   "execution_count": null,
   "metadata": {},
   "outputs": [],
   "source": [
    "# Load and read data from a text file.\n",
    "df = pd.read_csv('balance.txt', sep=' ')"
   ]
  },
  {
   "cell_type": "markdown",
   "metadata": {},
   "source": [
    "Report Generation."
   ]
  },
  {
   "cell_type": "code",
   "execution_count": null,
   "metadata": {},
   "outputs": [],
   "source": [
    "# Compare the average income based on ethnicity.\n",
    "avg_income_by_ethnicity = df.groupby('Ethnicity')['Income'].mean()\n",
    "\n",
    "# Display the average income based on ethnicity.\n",
    "print(\"\\n\\033[1mAverage income by ethnicity\\033[0m\\n\", avg_income_by_ethnicity)"
   ]
  },
  {
   "cell_type": "code",
   "execution_count": null,
   "metadata": {},
   "outputs": [],
   "source": [
    "# Determine on average, higher balance between married & single people.\n",
    "avg_balance_by_marital_status = df.groupby('Married')['Balance'].mean()\n",
    "\n",
    "# Display on average, higher balance between married and single people.\n",
    "print(\"\\n\\033[1mAverage higher balance\\033[0m\\n\", avg_balance_by_marital_status)"
   ]
  },
  {
   "cell_type": "code",
   "execution_count": null,
   "metadata": {},
   "outputs": [],
   "source": [
    "# Determine the highest income in our dataset.\n",
    "highest_income = df['Income'].max()\n",
    "\n",
    "# Display the highest income.\n",
    "print(\"\\n\\033[1mHighest Income:\\033[0m\", highest_income)"
   ]
  },
  {
   "cell_type": "code",
   "execution_count": null,
   "metadata": {},
   "outputs": [],
   "source": [
    "# Determine the lowest income in our dataset.\n",
    "lowest_income = df['Income'].min()\n",
    "\n",
    "# Display the lowest income.\n",
    "print(\"\\n\\033[1mLowest Income:\\033[0m\", lowest_income)"
   ]
  },
  {
   "cell_type": "code",
   "execution_count": null,
   "metadata": {},
   "outputs": [],
   "source": [
    "# Determine the number of cards on record.\n",
    "total_cards = df['Cards'].count()\n",
    "\n",
    "# Display the number of cards.\n",
    "print(\"\\n\\033[1mTotal Cards Recorded:\\033[0m\", total_cards)"
   ]
  },
  {
   "cell_type": "code",
   "execution_count": null,
   "metadata": {},
   "outputs": [],
   "source": [
    "# Determine the number of females we have information for vs males.\n",
    "gender_counts = df['Gender'].value_counts()\n",
    "\n",
    "# Display the number of females we have information for vs males.\n",
    "print(\"\\n\\033[1mNumber of females vs males\\033[0m\\n\", gender_counts)"
   ]
  }
 ],
 "metadata": {
  "colab": {
   "authorship_tag": "ABX9TyP5J3xG1JXUCQAkP9OLQqdU",
   "provenance": []
  },
  "kernelspec": {
   "display_name": "base",
   "language": "python",
   "name": "python3"
  },
  "language_info": {
   "name": "python",
   "version": "3.7.6"
  }
 },
 "nbformat": 4,
 "nbformat_minor": 0
}
