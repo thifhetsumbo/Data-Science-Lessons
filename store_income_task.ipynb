{
 "cells": [
  {
   "cell_type": "markdown",
   "metadata": {
    "id": "lqt_yzRy16Wj"
   },
   "source": [
    "## Compulsory Task \n",
    "\n",
    "In this compulsory task you will clean the country column and parse the date column in the **store_income_data_task.csv** file."
   ]
  },
  {
   "cell_type": "code",
   "execution_count": 1,
   "metadata": {},
   "outputs": [],
   "source": [
    "# Import libraries\n",
    "import pandas as pd\n",
    "import fuzzywuzzy\n",
    "from fuzzywuzzy import fuzz\n",
    "from fuzzywuzzy import process\n",
    "import datetime"
   ]
  },
  {
   "cell_type": "code",
   "execution_count": 2,
   "metadata": {
    "id": "vBP3WN2O16Wp"
   },
   "outputs": [],
   "source": [
    "# Load and read data file.\n",
    "income_df = pd.read_csv(\"store_income_data_example.csv\")"
   ]
  },
  {
   "cell_type": "markdown",
   "metadata": {
    "id": "ItqLwumA16Wr"
   },
   "source": [
    "1. Take a look at all the unique values in the \"country\" column. Then, convert the column to lowercase and remove any trailing white spaces."
   ]
  },
  {
   "cell_type": "code",
   "execution_count": 3,
   "metadata": {
    "id": "sLkzt4Hr16Wr"
   },
   "outputs": [
    {
     "name": "stdout",
     "output_type": "stream",
     "text": [
      "\n",
      "\u001b[1mThere are 34 unique countries\u001b[0m\n",
      "['UK ' 'united states of america' 'UNITED STATES' 'uk'\n",
      " ' United States of America' 'South Africa ' 'United States.'\n",
      " 'United States' 'South Africa/' 'United States '\n",
      " 'United States of America' 'South Africa.' 'United Kingdom '\n",
      " 'United States of America ' 'United States of America/' 'south africa'\n",
      " 'UK/' 'United Kingdom.' ' United Kingdom' ' South Africa'\n",
      " 'United Kingdom/' 'SOUTH AFRICA' ' UK' 'united kingdom' 'UNITED KINGDOM'\n",
      " ' United States' 'UNITED STATES OF AMERICA' 'South Africa'\n",
      " 'United States/' 'united states' 'United States of America.' 'UK'\n",
      " 'United Kingdom' 'UK.']\n",
      "\n",
      "\u001b[1mThere are 15 unique countries after cleaning\u001b[0m\n",
      "['uk' 'united states of america' 'united states' 'south africa'\n",
      " 'united states.' 'south africa/' 'south africa.' 'united kingdom'\n",
      " 'united states of america/' 'uk/' 'united kingdom.' 'united kingdom/'\n",
      " 'united states/' 'united states of america.' 'uk.']\n"
     ]
    }
   ],
   "source": [
    "# Select unique values in the 'country' column.\n",
    "countries = income_df['country'].unique()\n",
    "# View unique values in the 'country' column.\n",
    "print(f\"\\n\\033[1mThere are {len(countries)} unique countries\\033[0m\")\n",
    "print(countries)\n",
    "\n",
    "# Convert the column entries into lowercase.\n",
    "income_df['country'] = income_df['country'].str.lower()\n",
    "\n",
    "# Remove any trailing white spaces\n",
    "income_df['country'] = income_df['country'].str.strip()\n",
    "\n",
    "# View unique values in the 'country' column after cleaning.\n",
    "countries = income_df['country'].unique()\n",
    "print(f\"\\n\\033[1mThere are {len(countries)} unique countries after cleaning\\033[0m\")\n",
    "print(countries)"
   ]
  },
  {
   "cell_type": "markdown",
   "metadata": {
    "id": "P6dcDc4P16Ws"
   },
   "source": [
    "2. Note that there should only be three separate countries. Eliminate all variations, so that 'South Africa', 'United Kingdom' and 'United States' are the only three countries."
   ]
  },
  {
   "cell_type": "code",
   "execution_count": 4,
   "metadata": {
    "id": "qeV3CxMR16Ws"
   },
   "outputs": [
    {
     "name": "stdout",
     "output_type": "stream",
     "text": [
      "\n",
      "\u001b[1mThere are 5 unique countries after matching.\u001b[0m\n",
      "['uk' 'united states of america' 'united states' 'south africa'\n",
      " 'united kingdom']\n",
      "\n",
      "\u001b[1mThere are 3 unique countries after replacing.\u001b[0m\n",
      "['United Kingdom' 'United States' 'South Africa']\n"
     ]
    }
   ],
   "source": [
    "# Function to find and replace similar values with a standard one.\n",
    "def replace_matches_in_column(df, column, string_to_match, min_ratio = 90):\n",
    "    # Extracts the unique values in the specified column.\n",
    "    strings = df[column].unique()\n",
    "    \n",
    "    # Find the top 10 closest matches.\n",
    "    matches = fuzzywuzzy.process.extract(string_to_match, strings, \n",
    "                                         limit=10, scorer=fuzzywuzzy.fuzz.token_sort_ratio)\n",
    "\n",
    "    # Extracts only the matches with ratio of 90 or more.\n",
    "    close_matches = [matches[0] for matches in matches if matches[1] >= min_ratio]\n",
    "\n",
    "    # Identify rows with a close match.\n",
    "    rows_with_matches = df[column].isin(close_matches)\n",
    "\n",
    "    # Replaces those values with the standardized string.\n",
    "    df.loc[rows_with_matches, column] = string_to_match\n",
    "    \n",
    "# Runs the above function to replace country names with standar strings.\n",
    "replace_matches_in_column(df=income_df, column='country', string_to_match=\"united kingdom\")\n",
    "replace_matches_in_column(df=income_df, column='country', string_to_match=\"united states\")\n",
    "replace_matches_in_column(df=income_df, column='country', string_to_match=\"united states of america\")\n",
    "replace_matches_in_column(df=income_df, column='country', string_to_match=\"south africa\")\n",
    "replace_matches_in_column(df=income_df, column='country', string_to_match=\"uk\")\n",
    "\n",
    "# Select unique values in the 'country' column after matching.\n",
    "countries = income_df['country'].unique()\n",
    "\n",
    "# View unique values in the 'country' column after matching.\n",
    "print(f\"\\n\\033[1mThere are {len(countries)} unique countries after matching.\\033[0m\")\n",
    "print(countries)\n",
    "\n",
    "# Standardize country names.\n",
    "income_df[\"country\"] = income_df[\"country\"].replace({\n",
    "    \"united states of america\": \"United States\",\n",
    "    \"uk\": \"united kingdom\",\n",
    "})\n",
    "\n",
    "# Properly formats country names.\n",
    "income_df['country'] = income_df['country'].apply(lambda x: x.title())\n",
    "\n",
    "# Select unique values in the 'country' column after replacing.\n",
    "countries = income_df['country'].unique()\n",
    "\n",
    "# View unique values in the 'country' column after replacing.\n",
    "print(f\"\\n\\033[1mThere are {len(countries)} unique countries after replacing.\\033[0m\")\n",
    "print(countries)"
   ]
  },
  {
   "cell_type": "markdown",
   "metadata": {
    "id": "UJZDMTwP16Ws"
   },
   "source": [
    "3. Create a new column called `days_ago` in the DataFrame that is a copy of the 'date_measured' column but instead it is a number that shows how many days ago it was measured from the current date. Note that the current date can be obtained using `datetime.date.today()`."
   ]
  },
  {
   "cell_type": "code",
   "execution_count": 5,
   "metadata": {
    "id": "gMJbN84P16Wt"
   },
   "outputs": [
    {
     "name": "stdout",
     "output_type": "stream",
     "text": [
      "\n",
      "    id                   store_name         store_email  department  \\\n",
      "0   1   Cullen/Frost Bankers, Inc.                 NaN    Clothing   \n",
      "1   2          Nordson Corporation                 NaN       Tools   \n",
      "2   3        Stag Industrial, Inc.                 NaN      Beauty   \n",
      "3   4          FIRST REPUBLIC BANK  ecanadine3@fc2.com  Automotive   \n",
      "4   5  Mercantile Bank Corporation                 NaN        Baby   \n",
      "\n",
      "         income date_measured         country  days_ago  \n",
      "0  $54438554.24    2006-07-14  United Kingdom      6830  \n",
      "1  $41744177.01    2006-12-03   United States      6688  \n",
      "2  $36152340.34    2003-08-12   United States      7897  \n",
      "3   $8928350.04    2006-10-26  United Kingdom      6726  \n",
      "4  $33552742.32    1973-12-24  United Kingdom     18720  \n"
     ]
    }
   ],
   "source": [
    "# Convert 'date_measured' to datetime format\n",
    "income_df[\"date_measured\"] = pd.to_datetime(income_df[\"date_measured\"], errors='coerce')\n",
    "\n",
    "# Fetches the current date.\n",
    "today = datetime.date.today()\n",
    "# Calculate number of days between date in 'date_measured' and today's date.\n",
    "income_df[\"days_ago\"] = (today - income_df[\"date_measured\"].dt.date).dt.days\n",
    "\n",
    "# Display sample rows to verify cleaning\n",
    "print(\"\\n\", income_df.head())"
   ]
  }
 ],
 "metadata": {
  "colab": {
   "provenance": []
  },
  "kernelspec": {
   "display_name": "base",
   "language": "python",
   "name": "python3"
  },
  "language_info": {
   "codemirror_mode": {
    "name": "ipython",
    "version": 3
   },
   "file_extension": ".py",
   "mimetype": "text/x-python",
   "name": "python",
   "nbconvert_exporter": "python",
   "pygments_lexer": "ipython3",
   "version": "3.7.6"
  }
 },
 "nbformat": 4,
 "nbformat_minor": 0
}
