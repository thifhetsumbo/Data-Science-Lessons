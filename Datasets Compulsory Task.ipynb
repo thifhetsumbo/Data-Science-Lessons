{
 "cells": [
  {
   "cell_type": "markdown",
   "metadata": {
    "id": "_yS6VSYNQlRV"
   },
   "source": [
    "# Compulsory Task"
   ]
  },
  {
   "cell_type": "markdown",
   "metadata": {
    "id": "xxJgNn26RYXy"
   },
   "source": [
    "In this compulsory task you will use pandas to select data from a dataset and explain the data retrieved for a given line of code. "
   ]
  },
  {
   "cell_type": "markdown",
   "metadata": {},
   "source": [
    "This program selects the 'Limit' and 'Rating' columns of the first five observations, selects the first five observations with 4 cards and sorts the observations by 'Education' column, with users who have high education value first."
   ]
  },
  {
   "cell_type": "code",
   "execution_count": null,
   "metadata": {
    "id": "tJYiNSV2MeX3"
   },
   "outputs": [],
   "source": [
    "import pandas as pd"
   ]
  },
  {
   "cell_type": "markdown",
   "metadata": {
    "id": "a7Kn2dBSMojX"
   },
   "source": [
    "You will use the same `balance.txt` dataset used in the example Jupyter notebook. Remember to ensure it is in the same folder as this notebook."
   ]
  },
  {
   "cell_type": "code",
   "execution_count": null,
   "metadata": {
    "id": "JMyj6fTSMiNr"
   },
   "outputs": [],
   "source": [
    "df = pd.read_csv('balance.txt',sep=' ')"
   ]
  },
  {
   "cell_type": "markdown",
   "metadata": {
    "id": "BKTMPK2USayL"
   },
   "source": [
    "1. Write the code that performs the action described in the following statements."
   ]
  },
  {
   "cell_type": "code",
   "execution_count": null,
   "metadata": {
    "id": "j_ic1wpxMCmu"
   },
   "outputs": [],
   "source": [
    "# Select the 'Limit' and 'Rating' columns of the first five observations\n",
    "limit_rating_first_five = df[['Limit', 'Rating']].head()\n",
    "\n",
    "# Display the selected first five observations.\n",
    "print(\"\\n\\033[1mFirst five limit and rating\\033[0m\\n\", limit_rating_first_five)"
   ]
  },
  {
   "cell_type": "code",
   "execution_count": null,
   "metadata": {
    "id": "H8JeFeHRMWfL"
   },
   "outputs": [],
   "source": [
    "# Select the first five observations with 4 cards\n",
    "first_five_with_four_cards = df[df['Cards'] == 4].head()\n",
    "\n",
    "# Display the selected first five observations.\n",
    "print(\"\\n\\033[1mFirst five with 4 cards\\033[0m\\n\", first_five_with_four_cards)"
   ]
  },
  {
   "cell_type": "code",
   "execution_count": null,
   "metadata": {
    "id": "CH3AvNv6MY8d"
   },
   "outputs": [],
   "source": [
    "# Sort the observations by 'Education'. Show users with a high education value first. \n",
    "sorted_by_education = df.sort_values(by='Education', ascending=False)\n",
    "\n",
    "# Display the sorted contents of the text file.\n",
    "print(\"\\n\\033[1mSorted by education\\033[0m\\n\", sorted_by_education)"
   ]
  },
  {
   "cell_type": "markdown",
   "metadata": {
    "id": "7D6UiDd8M3VA"
   },
   "source": [
    "2. Write a short explanation in the form of a comment for the following lines of code. For example:  \n",
    "```\n",
    "# Selects the first 5 rows, and all of the columns for those rows.\n",
    "df.iloc[:5,:] \n",
    "```"
   ]
  },
  {
   "cell_type": "code",
   "execution_count": null,
   "metadata": {
    "id": "2ER3T_1HM27b"
   },
   "outputs": [],
   "source": [
    "# [Selects all rows and all columns in the DataFrame.]\n",
    "df.iloc[:,:] "
   ]
  },
  {
   "cell_type": "code",
   "execution_count": null,
   "metadata": {
    "id": "-CaKYE9YM_1-"
   },
   "outputs": [],
   "source": [
    "# [Selects all rows from index 5 until the end othe file and all columns from index 5 until the end othe file.]\n",
    "df.iloc[5:,5:] "
   ]
  },
  {
   "cell_type": "code",
   "execution_count": null,
   "metadata": {
    "id": "jYTu3SJINTFP"
   },
   "outputs": [],
   "source": [
    "# [Selects all rows from the first column.]\n",
    "df.iloc[:,0] "
   ]
  },
  {
   "cell_type": "code",
   "execution_count": null,
   "metadata": {
    "id": "YRVRGDCvNq6k"
   },
   "outputs": [],
   "source": [
    "# [Selects all columns for the 8th row.]\n",
    "df.iloc[9,:] "
   ]
  }
 ],
 "metadata": {
  "colab": {
   "authorship_tag": "ABX9TyO1m++CzXR0+evbA9V+brxx",
   "provenance": []
  },
  "kernelspec": {
   "display_name": "Python 3",
   "name": "python3"
  },
  "language_info": {
   "name": "python"
  }
 },
 "nbformat": 4,
 "nbformat_minor": 0
}
